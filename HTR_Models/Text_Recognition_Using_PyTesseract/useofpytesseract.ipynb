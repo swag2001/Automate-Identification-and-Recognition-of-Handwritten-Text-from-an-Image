{
  "nbformat": 4,
  "nbformat_minor": 0,
  "metadata": {
    "colab": {
      "name": "useofpytesseract.ipynb",
      "provenance": [],
      "collapsed_sections": []
    },
    "kernelspec": {
      "name": "python3",
      "display_name": "Python 3"
    }
  },
  "cells": [
    {
      "cell_type": "code",
      "metadata": {
        "id": "3Vh5OvRoEfGJ",
        "colab_type": "code",
        "colab": {
          "base_uri": "https://localhost:8080/",
          "height": 357
        },
        "outputId": "12b911f9-80eb-411a-fbb9-a5bc2fd84de6"
      },
      "source": [
        "!pip install opencv-python\n",
        "!sudo apt-get install tesseract-ocr\n",
        "!sudo apt-get install libtesseract-dev\n",
        "!pip install pytesseract"
      ],
      "execution_count": null,
      "outputs": [
        {
          "output_type": "stream",
          "text": [
            "Requirement already satisfied: opencv-python in /usr/local/lib/python3.6/dist-packages (4.1.2.30)\n",
            "Requirement already satisfied: numpy>=1.11.3 in /usr/local/lib/python3.6/dist-packages (from opencv-python) (1.18.5)\n",
            "Reading package lists... Done\n",
            "Building dependency tree       \n",
            "Reading state information... Done\n",
            "tesseract-ocr is already the newest version (4.00~git2288-10f4998a-2).\n",
            "The following package was automatically installed and is no longer required:\n",
            "  libnvidia-common-440\n",
            "Use 'sudo apt autoremove' to remove it.\n",
            "0 upgraded, 0 newly installed, 0 to remove and 43 not upgraded.\n",
            "Reading package lists... Done\n",
            "Building dependency tree       \n",
            "Reading state information... Done\n",
            "libtesseract-dev is already the newest version (4.00~git2288-10f4998a-2).\n",
            "The following package was automatically installed and is no longer required:\n",
            "  libnvidia-common-440\n",
            "Use 'sudo apt autoremove' to remove it.\n",
            "0 upgraded, 0 newly installed, 0 to remove and 43 not upgraded.\n",
            "Requirement already satisfied: pytesseract in /usr/local/lib/python3.6/dist-packages (0.3.4)\n",
            "Requirement already satisfied: Pillow in /usr/local/lib/python3.6/dist-packages (from pytesseract) (7.0.0)\n"
          ],
          "name": "stdout"
        }
      ]
    },
    {
      "cell_type": "code",
      "metadata": {
        "id": "Cf86mhytEyNG",
        "colab_type": "code",
        "colab": {
          "base_uri": "https://localhost:8080/",
          "height": 51
        },
        "outputId": "8ea05290-e922-4a6e-82f3-e5c3cf08c2f8"
      },
      "source": [
        "import cv2\n",
        "from google.colab import drive\n",
        "import pytesseract\n",
        "drive.mount('/content/gdrive')\n",
        "img = cv2.imread('gdrive/My Drive/TcsInternship/spacingOutText.gif')\n",
        "print(\"Loaded\")"
      ],
      "execution_count": null,
      "outputs": [
        {
          "output_type": "stream",
          "text": [
            "Drive already mounted at /content/gdrive; to attempt to forcibly remount, call drive.mount(\"/content/gdrive\", force_remount=True).\n",
            "Loaded\n"
          ],
          "name": "stdout"
        }
      ]
    },
    {
      "cell_type": "code",
      "metadata": {
        "id": "sthXEBfiFr12",
        "colab_type": "code",
        "colab": {
          "base_uri": "https://localhost:8080/",
          "height": 170
        },
        "outputId": "a3a0ec49-892d-4ffa-8d30-93dd5c437fba"
      },
      "source": [
        "text = pytesseract.image_to_string('gdrive/My Drive/TcsInternship/spacingOutText.gif',lang='eng')\n",
        "print(\"The Text is:\", text)"
      ],
      "execution_count": null,
      "outputs": [
        {
          "output_type": "stream",
          "text": [
            "The Text is: Let's get some\n",
            "indenting and _ word-spacing\n",
            "going. on.\n",
            "\n",
            "And how about some\n",
            "letter-spacing, line-\n",
            "height, and _ justified\n",
            "\n",
            "text-aligment?\n"
          ],
          "name": "stdout"
        }
      ]
    },
    {
      "cell_type": "markdown",
      "metadata": {
        "id": "Db5c4KiQ7mWN",
        "colab_type": "text"
      },
      "source": [
        "[link text](https://drive.google.com/file/d/1P6vojClV3IxhGL0Gf8M0SrOsr70oBOas/view?usp=sharing)    \n",
        "[link text](https://nanonets.com/blog/ocr-with-tesseract/#:~:text=Limitations%20of%20Tesseract,-Tesseract%20works%20best&text=The%20better%20the%20image%20quality,text%20must%20be%20horizontally%20aligned.)"
      ]
    },
    {
      "cell_type": "markdown",
      "metadata": {
        "id": "AmuYLK4L8ebB",
        "colab_type": "text"
      },
      "source": [
        "#Tesseract limitations summed in the list.\n",
        "\n",
        "The OCR is not as accurate as some commercial solutions available.\n",
        "\n",
        "Doesn't do well with images affected by artifacts including partial occlusion, distorted perspective, and complex background.\n",
        "\n",
        "It is not capable of recognizing handwriting.\n",
        "\n",
        "It may find gibberish and report this as OCR output.\n",
        "\n",
        "If a document contains languages outside of those given in the -l LANG arguments, results may be poor.\n",
        "\n",
        "It is not always good at analyzing the natural reading order of documents. For example, it may fail to recognize that a document contains two columns, and may try to join text across columns.\n",
        "\n",
        "Poor quality scans may produce poor quality OCR.\n",
        "\n",
        "It does not expose information about what font family text belongs to.\n"
      ]
    },
    {
      "cell_type": "code",
      "metadata": {
        "id": "UJZGWmmO9JT7",
        "colab_type": "code",
        "colab": {
          "base_uri": "https://localhost:8080/",
          "height": 51
        },
        "outputId": "0732eb63-2644-4f51-b450-256281199486"
      },
      "source": [
        "#Example\n",
        "import cv2\n",
        "from google.colab import drive\n",
        "import pytesseract\n",
        "drive.mount('/content/gdrive')\n",
        "img = cv2.imread('gdrive/My Drive/TcsInternship/download.jpg')\n",
        "print(\"Loaded\")"
      ],
      "execution_count": null,
      "outputs": [
        {
          "output_type": "stream",
          "text": [
            "Drive already mounted at /content/gdrive; to attempt to forcibly remount, call drive.mount(\"/content/gdrive\", force_remount=True).\n",
            "Loaded\n"
          ],
          "name": "stdout"
        }
      ]
    },
    {
      "cell_type": "code",
      "metadata": {
        "id": "ZbPOltjx9jXc",
        "colab_type": "code",
        "colab": {
          "base_uri": "https://localhost:8080/",
          "height": 34
        },
        "outputId": "109fc0bc-a5f5-4aba-fbd0-cc8f81467f6f"
      },
      "source": [
        "text = pytesseract.image_to_string('gdrive/My Drive/TcsInternship/download.jpg',lang='eng')\n",
        "print(\"The Text is:\", text)"
      ],
      "execution_count": null,
      "outputs": [
        {
          "output_type": "stream",
          "text": [
            "The Text is: all aboutsFacebook\n"
          ],
          "name": "stdout"
        }
      ]
    },
    {
      "cell_type": "markdown",
      "metadata": {
        "id": "lax3h7O891kR",
        "colab_type": "text"
      },
      "source": [
        "Here we can clearly see that it only shows or extract text from image which is of similar font. Other font text not captured. [link text](https://drive.google.com/file/d/14iRvDQFkT_kDK6-lapuP_CAHEScoEFtL/view?usp=sharing)"
      ]
    },
    {
      "cell_type": "code",
      "metadata": {
        "id": "DKKgtX6K-Gx9",
        "colab_type": "code",
        "colab": {}
      },
      "source": [
        ""
      ],
      "execution_count": null,
      "outputs": []
    }
  ]
}